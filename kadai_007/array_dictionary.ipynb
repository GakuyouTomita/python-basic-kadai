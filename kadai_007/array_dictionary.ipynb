{
  "nbformat": 4,
  "nbformat_minor": 0,
  "metadata": {
    "colab": {
      "provenance": []
    },
    "kernelspec": {
      "name": "python3",
      "display_name": "Python 3"
    },
    "language_info": {
      "name": "python"
    }
  },
  "cells": [
    {
      "cell_type": "code",
      "execution_count": 2,
      "metadata": {
        "colab": {
          "base_uri": "https://localhost:8080/"
        },
        "id": "WiKFvTQVyM-a",
        "outputId": "75416941-edb9-475e-f3f1-4f759289a371"
      },
      "outputs": [
        {
          "output_type": "stream",
          "name": "stdout",
          "text": [
            "水曜日は晴れです\n",
            "晴れ\n"
          ]
        }
      ],
      "source": [
        "# 以下の表の内容でリスト（array）とディクショナリ（dictionary）をそれぞれ作成し、水曜日の天気予報を取り出して出力してください。\n",
        "\n",
        "# リスト：array\n",
        "# 「array」という名前のリストを以下の内容で作成してください。\n",
        "\n",
        "# リストの順序\tリストに入れる文字列\n",
        "# 0\t月曜日は晴れです\n",
        "# 1\t火曜日は雨です\n",
        "# 2\t水曜日は晴れです\n",
        "# 3\t木曜日は晴れです\n",
        "# 4\t金曜日は曇りです\n",
        "# 5\t土曜日は曇りのち雨です\n",
        "# 6\t日曜日は雷雨です\n",
        "# ディクショナリ\n",
        "# 「dictionary」という名前のディクショナリを以下の内容で作成してください。\n",
        "\n",
        "# キー\tディクショナリに入れる文字列\n",
        "# mon\t晴れ\n",
        "# tue\t雨\n",
        "# wed\t晴れ\n",
        "# thu\t晴れ\n",
        "# fri\t曇り\n",
        "# sat\t曇りのち雨\n",
        "# sun\t雷雨\n",
        "\n",
        "array = [\"月曜日は晴れです\", \"火曜日は雨です\", \"水曜日は晴れです\", \"木曜日は晴れです\", \"金曜日は曇りです\", \"土曜日は曇りのち雨です\", \"日曜日は雷雨です\"]\n",
        "print(array[2])\n",
        "\n",
        "dictionary = {\"mon\": \"晴れ\", \"tue\": \"雨\", \"wed\": \"晴れ\", \"thu\": \"晴れ\", \"fri\": \"曇り\", \"sat\": \"曇りのち雨\", \"sun\": \"雷雨\"}\n",
        "print(dictionary[\"wed\"])\n"
      ]
    },
    {
      "cell_type": "code",
      "source": [],
      "metadata": {
        "id": "xGfrJ7SJzEvv"
      },
      "execution_count": null,
      "outputs": []
    }
  ]
}