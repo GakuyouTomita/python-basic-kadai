{
  "nbformat": 4,
  "nbformat_minor": 0,
  "metadata": {
    "colab": {
      "provenance": []
    },
    "kernelspec": {
      "name": "python3",
      "display_name": "Python 3"
    },
    "language_info": {
      "name": "python"
    }
  },
  "cells": [
    {
      "cell_type": "code",
      "execution_count": 3,
      "metadata": {
        "colab": {
          "base_uri": "https://localhost:8080/"
        },
        "id": "Sn0ecTx4_lrH",
        "outputId": "f602679b-7019-49b0-f483-6b784959495b"
      },
      "outputs": [
        {
          "output_type": "stream",
          "name": "stdout",
          "text": [
            "330.0\n"
          ]
        }
      ],
      "source": [
        "# 以下のコードを実行するとスコープに関するエラーが発生します。エラーを修正して、正しく計算結果が出力されるようにしてください。\n",
        "# グローバルスコープとローカルスコープを意識したプログラムが記述されている\n",
        "\n",
        "# price1 = 100\n",
        "# price2 = 200\n",
        "\n",
        "# def total():\n",
        "#     tax = 1.1\n",
        "#     return price1 + price2\n",
        "\n",
        "# print (total() * tax)\n",
        "\n",
        "\n",
        "price1 = 100\n",
        "price2 = 200\n",
        "tax = 1.1\n",
        "\n",
        "def total():\n",
        "    return price1 + price2\n",
        "\n",
        "print (total() * tax)\n"
      ]
    },
    {
      "cell_type": "code",
      "source": [],
      "metadata": {
        "id": "x7U4ViTUA-Ro"
      },
      "execution_count": null,
      "outputs": []
    }
  ]
}