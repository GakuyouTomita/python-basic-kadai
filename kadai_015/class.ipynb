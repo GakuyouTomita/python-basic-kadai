{
  "nbformat": 4,
  "nbformat_minor": 0,
  "metadata": {
    "colab": {
      "provenance": []
    },
    "kernelspec": {
      "name": "python3",
      "display_name": "Python 3"
    },
    "language_info": {
      "name": "python"
    }
  },
  "cells": [
    {
      "cell_type": "code",
      "execution_count": 9,
      "metadata": {
        "colab": {
          "base_uri": "https://localhost:8080/"
        },
        "id": "HeslnS5gHWpr",
        "outputId": "90867e72-be2a-498a-d64f-5ad6bb4e7a06"
      },
      "outputs": [
        {
          "output_type": "stream",
          "name": "stdout",
          "text": [
            "名前: サムライ太郎, 年齢: 45\n"
          ]
        }
      ],
      "source": [
        "# 課題の内容\n",
        "# 名前(name)と年齢(age)の属性を持つHumanクラスを作成してください。\n",
        "# nameとageを標準出力(print)するメソッド(printinfo)を追加してください。\n",
        "# Humanクラスのインスタンスは、変数に代入してプログラム内で使用してください。\n",
        "\n",
        "# 合格基準\n",
        "# 1\t「課題の内容」の仕様通りのクラスが定義されている\n",
        "# 2\tHumanクラスのインスタンスが変数に代入されている\n",
        "# 3\t定義したクラスに属するメソッド(printinfo)を使用し、名前(name)と年齢(age)が出力されている\n",
        "\n",
        "class Human:\n",
        "  def __init__(self, name, age):\n",
        "    self.name = name\n",
        "    self.age = age\n",
        "\n",
        "  def printinfo(self):\n",
        "    print(f\"名前: {self.name}, 年齢: {self.age}\")\n",
        "\n",
        "samuraitaro = Human(name=\"サムライ太郎\", age=\"45\")\n",
        "samuraitaro.printinfo()\n"
      ]
    },
    {
      "cell_type": "code",
      "source": [],
      "metadata": {
        "id": "cGQXbEfkIiXe"
      },
      "execution_count": null,
      "outputs": []
    }
  ]
}