{
  "nbformat": 4,
  "nbformat_minor": 0,
  "metadata": {
    "colab": {
      "provenance": []
    },
    "kernelspec": {
      "name": "python3",
      "display_name": "Python 3"
    },
    "language_info": {
      "name": "python"
    }
  },
  "cells": [
    {
      "cell_type": "code",
      "execution_count": 22,
      "metadata": {
        "colab": {
          "base_uri": "https://localhost:8080/"
        },
        "id": "MD7eYkuZQC7G",
        "outputId": "87981670-ca45-422c-def2-50ed454a440a"
      },
      "outputs": [
        {
          "output_type": "stream",
          "name": "stdout",
          "text": [
            "joは大人です\n",
            "kenは大人ではありません\n",
            "chasalinは大人です\n",
            "keikoは大人ではありません\n",
            "megumiは大人です\n",
            "takeshiは大人です\n"
          ]
        }
      ],
      "source": [
        "# 課題の内容\n",
        "# 名前(name)と年齢(age)の属性を持つHumanクラスを作成してください。\n",
        "# Humanクラスには、以下の条件で標準出力(print)するcheck_adultメソッドを追加してください。\n",
        "\n",
        "# ageが20以上の場合に大人であること\n",
        "# そうでない場合に大人でないこと\n",
        "# Humanクラスのインスタンスを複数生成してリストに追加し、リストの要素数分だけcheck_adultメソッドを呼び出してください。\n",
        "\n",
        "# 合格基準\n",
        "# 本教材で学習した「リスト・ディクショナリ」「条件分岐」「繰り返し処理」「関数」「変数のスコープ」「クラス」を用いて、「課題の内容」の仕様通りのプログラムが記述されている\n",
        "\n",
        "class Human:\n",
        "  def __init__(self, name, age):\n",
        "    self.name = name\n",
        "    self.age = age\n",
        "\n",
        "  def check_adult(self):\n",
        "    if self.age >= 20:\n",
        "      print(f\"{self.name}は大人です\")\n",
        "    else:\n",
        "      print(f\"{self.name}は大人ではありません\")\n",
        "\n",
        "humans = [\n",
        "    Human(name=\"jo\", age=21),\n",
        "    Human(name=\"ken\", age=12),\n",
        "    Human(name=\"chasalin\", age=43),\n",
        "    Human(name=\"keiko\", age=8),\n",
        "    Human(name=\"megumi\", age=20),\n",
        "    Human(name=\"takeshi\", age=37),\n",
        "]\n",
        "\n",
        "for human in humans:\n",
        "  human.check_adult()\n"
      ]
    },
    {
      "cell_type": "code",
      "source": [],
      "metadata": {
        "id": "Hg68xOPgR5mg"
      },
      "execution_count": null,
      "outputs": []
    }
  ]
}