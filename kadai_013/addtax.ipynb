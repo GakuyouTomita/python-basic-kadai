{
  "nbformat": 4,
  "nbformat_minor": 0,
  "metadata": {
    "colab": {
      "provenance": []
    },
    "kernelspec": {
      "name": "python3",
      "display_name": "Python 3"
    },
    "language_info": {
      "name": "python"
    }
  },
  "cells": [
    {
      "cell_type": "code",
      "execution_count": 6,
      "metadata": {
        "colab": {
          "base_uri": "https://localhost:8080/"
        },
        "id": "-eguKkEw9KrO",
        "outputId": "1adaa7c0-564c-4387-afec-31dfed9819da"
      },
      "outputs": [
        {
          "output_type": "stream",
          "name": "stdout",
          "text": [
            "2200.0円\n"
          ]
        }
      ],
      "source": [
        "# 商品を購入して、消費税を加えた計算結果を返す関数を記述してください。\n",
        "# 第1引数に商品の金額、第2引数に消費税（10%）を設定できるようにしてください。\n",
        "\n",
        "# 計算結果で小数点が含まれる場合はそのまま表示してください。\n",
        "# 切り捨てや四捨五入などの処理は不要です。\n",
        "\n",
        "# 1\t「課題の内容」の仕様通りの関数が定義されている\n",
        "# 2\t定義した関数を呼び出し、使用されている\n",
        "\n",
        "def add_tax(price, tax):\n",
        "  total = price + price * tax\n",
        "  print(f\"{total}円\")\n",
        "\n",
        "add_tax(2000, 0.1)"
      ]
    },
    {
      "cell_type": "code",
      "source": [],
      "metadata": {
        "id": "1SeuQZZN-cgQ"
      },
      "execution_count": null,
      "outputs": []
    }
  ]
}