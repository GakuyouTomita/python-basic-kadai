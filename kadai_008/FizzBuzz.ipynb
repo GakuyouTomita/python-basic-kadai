{
  "nbformat": 4,
  "nbformat_minor": 0,
  "metadata": {
    "colab": {
      "provenance": []
    },
    "kernelspec": {
      "name": "python3",
      "display_name": "Python 3"
    },
    "language_info": {
      "name": "python"
    }
  },
  "cells": [
    {
      "cell_type": "code",
      "execution_count": 21,
      "metadata": {
        "colab": {
          "base_uri": "https://localhost:8080/"
        },
        "id": "rhciw-7x0XB7",
        "outputId": "8cc0500d-2bf0-4ca3-9cea-40a4a4c64118"
      },
      "outputs": [
        {
          "output_type": "stream",
          "name": "stdout",
          "text": [
            "30\n",
            "FizzBuzz\n"
          ]
        }
      ],
      "source": [
        "# if文を用いて、以下の条件分岐をするコードを記述してください。値はprint関数で出力してください。\n",
        "\n",
        "# ・変数varが、3の倍数の場合は「Fizz」を出力\n",
        "# ・変数varが、5の倍数の場合は「Buzz」を出力\n",
        "# ・変数varが、3の倍数と5の倍数の両方に該当する場合は「FizzBuzz」を出力\n",
        "# ・上記のどの場合にも該当しない場合は、変数varの値を出力\n",
        "\n",
        "# 1\t条件判定対象の数値が変数varに代入されている\n",
        "# 2\tif文で想定通りの条件に分岐した結果を出力されている\n",
        "\n",
        "import random\n",
        "\n",
        "var = random.randint(1, 30)\n",
        "print(var)\n",
        "\n",
        "if var % 15 == 0:\n",
        "  print(\"FizzBuzz\")\n",
        "\n",
        "elif var % 5 == 0:\n",
        "  print(\"Buzz\")\n",
        "\n",
        "elif var % 3 == 0:\n",
        "  print(\"Fizz\")\n",
        "\n",
        "else:\n",
        "  print(var)\n",
        "\n"
      ]
    },
    {
      "cell_type": "code",
      "source": [],
      "metadata": {
        "id": "5LcqHNFb1PT_"
      },
      "execution_count": 6,
      "outputs": []
    }
  ]
}