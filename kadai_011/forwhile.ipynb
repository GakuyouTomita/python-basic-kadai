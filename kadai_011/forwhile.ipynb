{
  "nbformat": 4,
  "nbformat_minor": 0,
  "metadata": {
    "colab": {
      "provenance": []
    },
    "kernelspec": {
      "name": "python3",
      "display_name": "Python 3"
    },
    "language_info": {
      "name": "python"
    }
  },
  "cells": [
    {
      "cell_type": "code",
      "execution_count": 9,
      "metadata": {
        "colab": {
          "base_uri": "https://localhost:8080/"
        },
        "id": "Sz2NgldE7awG",
        "outputId": "9674e3c3-e0c2-460c-fc25-bfd5f12cc119"
      },
      "outputs": [
        {
          "output_type": "stream",
          "name": "stdout",
          "text": [
            "水\n",
            "金\n",
            "地\n",
            "火\n",
            "木\n",
            "土\n",
            "天\n",
            "海\n",
            "冥\n",
            "水\n",
            "金\n",
            "地\n",
            "火\n",
            "木\n",
            "土\n",
            "天\n",
            "海\n",
            "冥\n"
          ]
        }
      ],
      "source": [
        "# リストの中身を先頭から全て取り出して、出力結果が以下のようになるプログラムを、for、while、それぞれを利用して記述して下さい。\n",
        "# 水\n",
        "# 金\n",
        "# 地\n",
        "# 火\n",
        "# 木\n",
        "# 土\n",
        "# 天\n",
        "# 海\n",
        "# 冥\n",
        "# 水\n",
        "# 金\n",
        "# 地\n",
        "# 火\n",
        "# 木\n",
        "# 土\n",
        "# 天\n",
        "# 海\n",
        "# 冥\n",
        "\n",
        "# 合格基準\n",
        "# 1\tforを用いて繰り返し処理が記述されている\n",
        "# 2\twhileを用いて繰り返し処理が記述されている\n",
        "\n",
        "\n",
        "array = [\"水\",\"金\",\"地\",\"火\",\"木\",\"土\",\"天\",\"海\",\"冥\"]\n",
        "\n",
        "for array2 in array:\n",
        "    print(array2)\n",
        "\n",
        "i = 0\n",
        "while i < len(array):\n",
        "  print(array[i])\n",
        "  i = i + 1\n"
      ]
    },
    {
      "cell_type": "code",
      "source": [],
      "metadata": {
        "id": "frmAGRHA8L7d"
      },
      "execution_count": null,
      "outputs": []
    }
  ]
}