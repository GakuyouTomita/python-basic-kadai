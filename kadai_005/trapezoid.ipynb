{
  "nbformat": 4,
  "nbformat_minor": 0,
  "metadata": {
    "colab": {
      "provenance": []
    },
    "kernelspec": {
      "name": "python3",
      "display_name": "Python 3"
    },
    "language_info": {
      "name": "python"
    }
  },
  "cells": [
    {
      "cell_type": "code",
      "source": [
        "# 下記の台形の面積の計算結果を出力するプログラムを記述してください。\n",
        "# 出力結果は「◯◯cm²」となるように単位をつけてください。\n",
        "\n",
        "# 上辺：10cm\n",
        "# 下辺：20cm\n",
        "# 高さ：5cm\n",
        "\n",
        "# 公式：台形の面積 =（上辺＋下辺）× 高さ ÷ 2\n",
        "\n",
        "top_base = 10\n",
        "bottom_base = 20\n",
        "height = 5\n",
        "print(str((top_base + bottom_base) * height / 2) + \"㎠\")"
      ],
      "metadata": {
        "colab": {
          "base_uri": "https://localhost:8080/"
        },
        "id": "64wcr8JIPb72",
        "outputId": "9545f358-10f1-447f-8f4a-2b452cefd8cb"
      },
      "execution_count": 1,
      "outputs": [
        {
          "output_type": "stream",
          "name": "stdout",
          "text": [
            "75.0㎠\n"
          ]
        }
      ]
    },
    {
      "cell_type": "code",
      "source": [],
      "metadata": {
        "id": "AZ8DuMBFQkuo"
      },
      "execution_count": null,
      "outputs": []
    }
  ]
}